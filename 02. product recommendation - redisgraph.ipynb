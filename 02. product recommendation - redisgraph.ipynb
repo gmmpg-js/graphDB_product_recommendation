{
 "cells": [
  {
   "cell_type": "markdown",
   "metadata": {},
   "source": [
    "# 모듈 불러오기"
   ]
  },
  {
   "cell_type": "code",
   "execution_count": 49,
   "metadata": {},
   "outputs": [],
   "source": [
    "import pandas as pd \n",
    "import seaborn as sns \n",
    "import matplotlib.pyplot as plt\n",
    "import ast\n",
    "import copy\n",
    "import numpy as np\n",
    "\n",
    "import redis\n",
    "from redisgraph import Node, Edge, Graph, Path\n",
    "\n",
    "from pyvis.network import Network\n",
    "\n",
    "%matplotlib inline"
   ]
  },
  {
   "cell_type": "markdown",
   "metadata": {},
   "source": [
    "# redisgraph database 연결"
   ]
  },
  {
   "cell_type": "code",
   "execution_count": 2,
   "metadata": {},
   "outputs": [],
   "source": [
    "# RedisGraph Instance 생성\n",
    "r = redis.Redis(host='127.0.0.1', port=6379, db=1)"
   ]
  },
  {
   "cell_type": "code",
   "execution_count": 3,
   "metadata": {},
   "outputs": [],
   "source": [
    "purchase_graph = Graph('product_recommendation', r)"
   ]
  },
  {
   "cell_type": "markdown",
   "metadata": {},
   "source": [
    "# product recommendation based on redisgraph"
   ]
  },
  {
   "cell_type": "code",
   "execution_count": 4,
   "metadata": {},
   "outputs": [],
   "source": [
    "def columns_select(result):\n",
    "    \"\"\"\n",
    "    쿼리 실행 결과의 header값을 가져오는 함수 \n",
    "    \n",
    "    params\n",
    "    - result: query 실행 결과 (class QueryResult)\n",
    "    \"\"\"\n",
    "    columns = []\n",
    "    \n",
    "    for i in range(len(result.header)):\n",
    "        col = result.header[i][1].decode('utf-8')\n",
    "        columns.append(col)\n",
    "    \n",
    "    return columns"
   ]
  },
  {
   "cell_type": "code",
   "execution_count": 115,
   "metadata": {},
   "outputs": [],
   "source": [
    "def top_product_list(query_input):\n",
    "    \"\"\"\n",
    "    테이블 형태로 추천 상품의 리스트를 반환하는 함수 \n",
    "    \n",
    "    parmas\n",
    "    - query_input: 입력 쿼리\n",
    "    \"\"\"\n",
    "    result = purchase_graph.query(query_input)\n",
    "    cols = columns_select(result)\n",
    "    \n",
    "    top_prod = pd.DataFrame(result.result_set, columns = cols)\n",
    "    \n",
    "    return top_prod"
   ]
  },
  {
   "cell_type": "markdown",
   "metadata": {},
   "source": [
    "## 많이 본 상품 Top 5"
   ]
  },
  {
   "cell_type": "code",
   "execution_count": 116,
   "metadata": {},
   "outputs": [
    {
     "data": {
      "text/html": [
       "<div>\n",
       "<style scoped>\n",
       "    .dataframe tbody tr th:only-of-type {\n",
       "        vertical-align: middle;\n",
       "    }\n",
       "\n",
       "    .dataframe tbody tr th {\n",
       "        vertical-align: top;\n",
       "    }\n",
       "\n",
       "    .dataframe thead th {\n",
       "        text-align: right;\n",
       "    }\n",
       "</style>\n",
       "<table border=\"1\" class=\"dataframe\">\n",
       "  <thead>\n",
       "    <tr style=\"text-align: right;\">\n",
       "      <th></th>\n",
       "      <th>product_id</th>\n",
       "      <th>product_sku</th>\n",
       "      <th>view_cnt</th>\n",
       "    </tr>\n",
       "  </thead>\n",
       "  <tbody>\n",
       "    <tr>\n",
       "      <th>0</th>\n",
       "      <td>183</td>\n",
       "      <td>[145]</td>\n",
       "      <td>294</td>\n",
       "    </tr>\n",
       "    <tr>\n",
       "      <th>1</th>\n",
       "      <td>23</td>\n",
       "      <td>[49]</td>\n",
       "      <td>288</td>\n",
       "    </tr>\n",
       "    <tr>\n",
       "      <th>2</th>\n",
       "      <td>4</td>\n",
       "      <td>[159]</td>\n",
       "      <td>286</td>\n",
       "    </tr>\n",
       "    <tr>\n",
       "      <th>3</th>\n",
       "      <td>152</td>\n",
       "      <td>[100]</td>\n",
       "      <td>285</td>\n",
       "    </tr>\n",
       "    <tr>\n",
       "      <th>4</th>\n",
       "      <td>89</td>\n",
       "      <td>[63]</td>\n",
       "      <td>283</td>\n",
       "    </tr>\n",
       "  </tbody>\n",
       "</table>\n",
       "</div>"
      ],
      "text/plain": [
       "   product_id product_sku  view_cnt\n",
       "0         183       [145]       294\n",
       "1          23        [49]       288\n",
       "2           4       [159]       286\n",
       "3         152       [100]       285\n",
       "4          89        [63]       283"
      ]
     },
     "execution_count": 116,
     "metadata": {},
     "output_type": "execute_result"
    }
   ],
   "source": [
    "query_view_top5 = \"\"\"match (:customer)-[v:view]->(p:product)\n",
    "                    return p.id as product_id, p.name as product_sku, count(v) as view_cnt \n",
    "                    order by view_cnt desc limit 5;\"\"\"\n",
    "\n",
    "top5_view_prod = top_product_list(query_view_top5)\n",
    "top5_view_prod"
   ]
  },
  {
   "cell_type": "markdown",
   "metadata": {},
   "source": [
    "## 많이 구매한 상품 Top 5"
   ]
  },
  {
   "cell_type": "code",
   "execution_count": 117,
   "metadata": {},
   "outputs": [
    {
     "data": {
      "text/html": [
       "<div>\n",
       "<style scoped>\n",
       "    .dataframe tbody tr th:only-of-type {\n",
       "        vertical-align: middle;\n",
       "    }\n",
       "\n",
       "    .dataframe tbody tr th {\n",
       "        vertical-align: top;\n",
       "    }\n",
       "\n",
       "    .dataframe thead th {\n",
       "        text-align: right;\n",
       "    }\n",
       "</style>\n",
       "<table border=\"1\" class=\"dataframe\">\n",
       "  <thead>\n",
       "    <tr style=\"text-align: right;\">\n",
       "      <th></th>\n",
       "      <th>product_id</th>\n",
       "      <th>product_sku</th>\n",
       "      <th>trans_cnt</th>\n",
       "    </tr>\n",
       "  </thead>\n",
       "  <tbody>\n",
       "    <tr>\n",
       "      <th>0</th>\n",
       "      <td>25</td>\n",
       "      <td>[70]</td>\n",
       "      <td>5</td>\n",
       "    </tr>\n",
       "    <tr>\n",
       "      <th>1</th>\n",
       "      <td>145</td>\n",
       "      <td>[88]</td>\n",
       "      <td>4</td>\n",
       "    </tr>\n",
       "    <tr>\n",
       "      <th>2</th>\n",
       "      <td>37</td>\n",
       "      <td>[45]</td>\n",
       "      <td>4</td>\n",
       "    </tr>\n",
       "    <tr>\n",
       "      <th>3</th>\n",
       "      <td>150</td>\n",
       "      <td>[129]</td>\n",
       "      <td>4</td>\n",
       "    </tr>\n",
       "    <tr>\n",
       "      <th>4</th>\n",
       "      <td>64</td>\n",
       "      <td>[33]</td>\n",
       "      <td>4</td>\n",
       "    </tr>\n",
       "  </tbody>\n",
       "</table>\n",
       "</div>"
      ],
      "text/plain": [
       "   product_id product_sku  trans_cnt\n",
       "0          25        [70]          5\n",
       "1         145        [88]          4\n",
       "2          37        [45]          4\n",
       "3         150       [129]          4\n",
       "4          64        [33]          4"
      ]
     },
     "execution_count": 117,
     "metadata": {},
     "output_type": "execute_result"
    }
   ],
   "source": [
    "query_trans_top5 = \"\"\"match (:order)-[c:contain]->(p:product)\n",
    "                    return p.id as product_id, p.name as product_sku, count(c) as trans_cnt \n",
    "                    order by trans_cnt desc limit 5;\"\"\"\n",
    "\n",
    "top5_trans_prod = top_product_list(query_trans_top5)\n",
    "top5_trans_prod"
   ]
  },
  {
   "cell_type": "markdown",
   "metadata": {},
   "source": [
    "## 특정 상품을 본 사람들이 본 다른 상품 추천"
   ]
  },
  {
   "cell_type": "code",
   "execution_count": 118,
   "metadata": {},
   "outputs": [],
   "source": [
    "def recommendation_prod(query_input):\n",
    "    \"\"\"\n",
    "    다른 상품을 구매하거나 본 경우와 관련된 추천 상품을 \n",
    "    Table형태로 반환하는 함수 \n",
    "    \n",
    "    parmas\n",
    "    - query_input: 입력 쿼리\n",
    "    \"\"\"\n",
    "    result = purchase_graph.query(query_input)\n",
    "    cols = columns_select(result)\n",
    "    \n",
    "    t_df = pd.DataFrame(result.result_set, columns = cols)\n",
    "    \n",
    "    rec_prod_id = t_df.rec_prod_node.apply(lambda x: ast.literal_eval(x)['properties']['id'])\n",
    "    rec_prod_nm = t_df.rec_prod_node.apply(lambda x: ast.literal_eval(x)['properties']['name'])\n",
    "    \n",
    "    rec_prod = pd.concat([rec_prod_id, rec_prod_nm, t_df['count']], axis=1)\n",
    "    rec_prod.columns = ['product_id', 'product_sku', 'count']\n",
    "\n",
    "    return rec_prod"
   ]
  },
  {
   "cell_type": "markdown",
   "metadata": {},
   "source": [
    "### Table format"
   ]
  },
  {
   "cell_type": "code",
   "execution_count": 11,
   "metadata": {},
   "outputs": [
    {
     "data": {
      "text/plain": [
       "product_id       183\n",
       "product_sku    [145]\n",
       "view_cnt         294\n",
       "Name: 0, dtype: object"
      ]
     },
     "execution_count": 11,
     "metadata": {},
     "output_type": "execute_result"
    }
   ],
   "source": [
    "# 가장 많이 본 상품\n",
    "\n",
    "top5_view_prod.iloc[0]"
   ]
  },
  {
   "cell_type": "code",
   "execution_count": 119,
   "metadata": {},
   "outputs": [
    {
     "data": {
      "text/html": [
       "<div>\n",
       "<style scoped>\n",
       "    .dataframe tbody tr th:only-of-type {\n",
       "        vertical-align: middle;\n",
       "    }\n",
       "\n",
       "    .dataframe tbody tr th {\n",
       "        vertical-align: top;\n",
       "    }\n",
       "\n",
       "    .dataframe thead th {\n",
       "        text-align: right;\n",
       "    }\n",
       "</style>\n",
       "<table border=\"1\" class=\"dataframe\">\n",
       "  <thead>\n",
       "    <tr style=\"text-align: right;\">\n",
       "      <th></th>\n",
       "      <th>product_id</th>\n",
       "      <th>product_sku</th>\n",
       "      <th>count</th>\n",
       "    </tr>\n",
       "  </thead>\n",
       "  <tbody>\n",
       "    <tr>\n",
       "      <th>0</th>\n",
       "      <td>64</td>\n",
       "      <td>[33]</td>\n",
       "      <td>21</td>\n",
       "    </tr>\n",
       "    <tr>\n",
       "      <th>1</th>\n",
       "      <td>15</td>\n",
       "      <td>[37]</td>\n",
       "      <td>21</td>\n",
       "    </tr>\n",
       "    <tr>\n",
       "      <th>2</th>\n",
       "      <td>44</td>\n",
       "      <td>[79]</td>\n",
       "      <td>17</td>\n",
       "    </tr>\n",
       "    <tr>\n",
       "      <th>3</th>\n",
       "      <td>5</td>\n",
       "      <td>[169]</td>\n",
       "      <td>17</td>\n",
       "    </tr>\n",
       "    <tr>\n",
       "      <th>4</th>\n",
       "      <td>192</td>\n",
       "      <td>[83]</td>\n",
       "      <td>16</td>\n",
       "    </tr>\n",
       "  </tbody>\n",
       "</table>\n",
       "</div>"
      ],
      "text/plain": [
       "   product_id product_sku  count\n",
       "0          64        [33]     21\n",
       "1          15        [37]     21\n",
       "2          44        [79]     17\n",
       "3           5       [169]     17\n",
       "4         192        [83]     16"
      ]
     },
     "execution_count": 119,
     "metadata": {},
     "output_type": "execute_result"
    }
   ],
   "source": [
    "query_rec_topview = \"\"\"match (p:product {id: 183})<-[:view]-(u:customer)-[v:view]->(rec_prod:product) \n",
    "                        where not rec_prod.id = 183 \n",
    "                        return toJson(rec_prod) as rec_prod_node, count(v) as count \n",
    "                        order by count desc limit 5;\"\"\"\n",
    "\n",
    "rec_topview = recommendation_prod(query_rec_topview)\n",
    "rec_topview"
   ]
  },
  {
   "cell_type": "markdown",
   "metadata": {},
   "source": [
    "### Graph format"
   ]
  },
  {
   "cell_type": "code",
   "execution_count": 42,
   "metadata": {},
   "outputs": [],
   "source": [
    "query_rec_topview = \"\"\"match (p:product {id: 183})<-[:view]-(:customer)-[v:view]->(rec_prod:product) \n",
    "                        where not rec_prod.id = 183 \n",
    "                        with rec_prod, count(v) as count order by count desc limit 5 \n",
    "                        match (rec_prod)<-[rec_v:view]-(u:customer)-[origin_v:view]->(p:product {id:183}) \n",
    "                        return toJson(collect(distinct rec_prod)) as rec_prod,\n",
    "                        toJson(collect(distinct rec_v)) as rec_view, \n",
    "                        toJson(collect(distinct u)) as rel_user,\n",
    "                        toJson(collect(distinct origin_v)) as origin_view,\n",
    "                        toJson(collect(distinct p)) as view_prod;\"\"\"\n",
    "\n",
    "result_rec_topview = purchase_graph.query(query_rec_topview)"
   ]
  },
  {
   "cell_type": "code",
   "execution_count": 43,
   "metadata": {
    "scrolled": false
   },
   "outputs": [],
   "source": [
    "records = result_rec_topview.result_set[0]"
   ]
  },
  {
   "cell_type": "code",
   "execution_count": 48,
   "metadata": {},
   "outputs": [],
   "source": [
    "rec_prod = ast.literal_eval(records[0])\n",
    "edges_1st = ast.literal_eval(records[1])\n",
    "users = ast.literal_eval(records[2])\n",
    "edges_2nd = ast.literal_eval(records[3])\n",
    "view_prod = ast.literal_eval(records[4])"
   ]
  },
  {
   "cell_type": "code",
   "execution_count": 77,
   "metadata": {},
   "outputs": [],
   "source": [
    "network1 = Network(height=\"750px\", width=\"100%\", font_color=\"black\", \n",
    "                   heading=\"Recommendation for users who view the specific product\", directed = True, notebook=True)"
   ]
  },
  {
   "cell_type": "code",
   "execution_count": 78,
   "metadata": {},
   "outputs": [],
   "source": [
    "network1.barnes_hut(gravity=-7000, central_gravity=0.02, spring_length=80, damping=0.05, overlap=0.50)"
   ]
  },
  {
   "cell_type": "code",
   "execution_count": 79,
   "metadata": {},
   "outputs": [],
   "source": [
    "for node in rec_prod:\n",
    "    network1.add_node(node['id'], label = node['properties']['name'], \n",
    "                     title = str(node['labels'])+': sku '+str(node['properties']['name']), color = '#771DAE')\n",
    "\n",
    "for node in users:\n",
    "    network1.add_node(node['id'], label = node['properties']['name'], \n",
    "                     title = str(node['labels'])+': sku '+str(node['properties']['name']), color = '#949494')\n",
    "    \n",
    "for node in view_prod:\n",
    "    network1.add_node(node['id'], label = node['properties']['name'], \n",
    "                     title = str(node['labels'])+': sku '+str(node['properties']['name']), color = '#B8B5D2')"
   ]
  },
  {
   "cell_type": "code",
   "execution_count": 80,
   "metadata": {},
   "outputs": [],
   "source": [
    "for edge in edges_1st:\n",
    "    network1.add_edge(edge['start']['id'], edge['end']['id'], title = edge['relationship'])\n",
    "    \n",
    "for edge in edges_2nd:\n",
    "    network1.add_edge(edge['start']['id'], edge['end']['id'], title = edge['relationship'])"
   ]
  },
  {
   "cell_type": "code",
   "execution_count": 81,
   "metadata": {},
   "outputs": [
    {
     "data": {
      "text/html": [
       "\n",
       "        <iframe\n",
       "            width=\"100%\"\n",
       "            height=\"750px\"\n",
       "            src=\"Recommendation_view_one_prod.html\"\n",
       "            frameborder=\"0\"\n",
       "            allowfullscreen\n",
       "        ></iframe>\n",
       "        "
      ],
      "text/plain": [
       "<IPython.lib.display.IFrame at 0x7fe3323a2c70>"
      ]
     },
     "execution_count": 81,
     "metadata": {},
     "output_type": "execute_result"
    }
   ],
   "source": [
    "network1.show('./graph/Recommendation_view_one_prod.html')"
   ]
  },
  {
   "cell_type": "markdown",
   "metadata": {},
   "source": [
    "## 특정 상품을 구매한 사람들이 구매한 다른 상품 추천"
   ]
  },
  {
   "cell_type": "markdown",
   "metadata": {},
   "source": [
    "### Table format"
   ]
  },
  {
   "cell_type": "code",
   "execution_count": 82,
   "metadata": {},
   "outputs": [
    {
     "data": {
      "text/plain": [
       "product_id       25\n",
       "product_sku    [70]\n",
       "trans_cnt         5\n",
       "Name: 0, dtype: object"
      ]
     },
     "execution_count": 82,
     "metadata": {},
     "output_type": "execute_result"
    }
   ],
   "source": [
    "# 가장 많이 구매한 상품\n",
    "\n",
    "top5_trans_prod.iloc[0]"
   ]
  },
  {
   "cell_type": "code",
   "execution_count": 121,
   "metadata": {},
   "outputs": [
    {
     "data": {
      "text/html": [
       "<div>\n",
       "<style scoped>\n",
       "    .dataframe tbody tr th:only-of-type {\n",
       "        vertical-align: middle;\n",
       "    }\n",
       "\n",
       "    .dataframe tbody tr th {\n",
       "        vertical-align: top;\n",
       "    }\n",
       "\n",
       "    .dataframe thead th {\n",
       "        text-align: right;\n",
       "    }\n",
       "</style>\n",
       "<table border=\"1\" class=\"dataframe\">\n",
       "  <thead>\n",
       "    <tr style=\"text-align: right;\">\n",
       "      <th></th>\n",
       "      <th>product_id</th>\n",
       "      <th>product_sku</th>\n",
       "      <th>count</th>\n",
       "    </tr>\n",
       "  </thead>\n",
       "  <tbody>\n",
       "    <tr>\n",
       "      <th>0</th>\n",
       "      <td>43</td>\n",
       "      <td>[67]</td>\n",
       "      <td>1</td>\n",
       "    </tr>\n",
       "  </tbody>\n",
       "</table>\n",
       "</div>"
      ],
      "text/plain": [
       "   product_id product_sku  count\n",
       "0          43        [67]      1"
      ]
     },
     "execution_count": 121,
     "metadata": {},
     "output_type": "execute_result"
    }
   ],
   "source": [
    "query_rec_toptrans = \"\"\"match (p:product {id: 25})<-[c1:contain]-(o1:order)<-[t1:transact]-(u:customer)\n",
    "                        with p, c1, o1, t1,u\n",
    "                        match (u)-[t2:transact]->(o2:order)-[c2: contain]->(rec_prod:product)\n",
    "                        where not rec_prod.id = 25\n",
    "                        return toJson(rec_prod) as rec_prod_node, count(c2) as count \n",
    "                        order by count desc limit 5;\"\"\"\n",
    "\n",
    "\n",
    "rec_toptrans = recommendation_prod(query_rec_toptrans)\n",
    "rec_toptrans"
   ]
  },
  {
   "cell_type": "markdown",
   "metadata": {},
   "source": [
    "### Graph format"
   ]
  },
  {
   "cell_type": "code",
   "execution_count": 101,
   "metadata": {},
   "outputs": [],
   "source": [
    "query_rec_toptrans = \"\"\"match (p:product {id: 25})<-[c1:contain]-(o1:order)<-[t1:transact]-(u:customer)\n",
    "                        with p, c1, o1, t1,u\n",
    "                        match (u)-[t2:transact]->(o2:order)-[c2: contain]->(rec_prod:product)\n",
    "                        where not rec_prod.id = 25\n",
    "                        with rec_prod, count(c2) as transact_num order by transact_num desc limit 5\n",
    "                        match (rec_prod)<-[c2: contain]-(o2:order)<-[t2:transact]-(u:customer)-[t1:transact]->(o1:order)-[c1:contain]->(p:product {id: 25})\n",
    "                        return toJson(collect(distinct rec_prod)) as rec_prod,\n",
    "                        toJson(collect(distinct c2)) as edges_1st, \n",
    "                        toJson(collect(distinct o2)) as order_rec_prod,\n",
    "                        toJson(collect(distinct t2)) as edges_2nd,\n",
    "                        toJson(collect(distinct u)) as users,\n",
    "                        toJson(collect(distinct t1)) as edges_3rd,\n",
    "                        toJson(collect(distinct o1)) as order_spec_prod,\n",
    "                        toJson(collect(distinct c1)) as edges_4th,\n",
    "                        toJson(collect(distinct p)) as spec_prod;\"\"\"\n",
    "\n",
    "result_rec_toptrans = purchase_graph.query(query_rec_toptrans)"
   ]
  },
  {
   "cell_type": "code",
   "execution_count": 106,
   "metadata": {},
   "outputs": [],
   "source": [
    "records = result_rec_toptrans.result_set[0]"
   ]
  },
  {
   "cell_type": "code",
   "execution_count": 107,
   "metadata": {},
   "outputs": [],
   "source": [
    "rec_prod = ast.literal_eval(records[0])\n",
    "edges_1st = ast.literal_eval(records[1])\n",
    "order_rec_prod = ast.literal_eval(records[2])\n",
    "edges_2nd = ast.literal_eval(records[3])\n",
    "users = ast.literal_eval(records[4])\n",
    "edges_3rd = ast.literal_eval(records[5])\n",
    "order_spec_prod = ast.literal_eval(records[6])\n",
    "edges_4th = ast.literal_eval(records[7])\n",
    "spec_prod = ast.literal_eval(records[8])"
   ]
  },
  {
   "cell_type": "code",
   "execution_count": 108,
   "metadata": {},
   "outputs": [],
   "source": [
    "network2 = Network(height=\"750px\", width=\"100%\", font_color=\"black\", \n",
    "                   heading=\"Recommendation for users who purchase the specific product\", directed = True, notebook=True)"
   ]
  },
  {
   "cell_type": "code",
   "execution_count": 109,
   "metadata": {},
   "outputs": [],
   "source": [
    "network2.barnes_hut(gravity=-7000, central_gravity=0.02, spring_length=80, damping=0.05, overlap=0.50)"
   ]
  },
  {
   "cell_type": "code",
   "execution_count": 110,
   "metadata": {},
   "outputs": [],
   "source": [
    "for node in rec_prod:\n",
    "    network2.add_node(node['id'], label = node['properties']['name'], \n",
    "                     title = node['labels'], color = '#771DAE')\n",
    "\n",
    "for node in order_rec_prod:\n",
    "    network2.add_node(node['id'], label = node['properties']['name'], \n",
    "                     title = node['labels'], color = '#949494')\n",
    "    \n",
    "for node in users:\n",
    "    network2.add_node(node['id'], label = node['properties']['name'], \n",
    "                     title = node['labels'], color = '#B8B5D2')\n",
    "\n",
    "for node in order_spec_prod:\n",
    "    network2.add_node(node['id'], label = node['properties']['name'], \n",
    "                     title = node['labels'], color = '#949494')\n",
    "    \n",
    "for node in spec_prod:\n",
    "    network2.add_node(node['id'], label = node['properties']['name'], \n",
    "                     title = node['labels'], color = '#F30259')"
   ]
  },
  {
   "cell_type": "code",
   "execution_count": 112,
   "metadata": {},
   "outputs": [],
   "source": [
    "for edge in edges_1st:\n",
    "    network2.add_edge(edge['start']['id'], edge['end']['id'], title = edge['relationship'])\n",
    "    \n",
    "for edge in edges_2nd:\n",
    "    network2.add_edge(edge['start']['id'], edge['end']['id'], title = edge['relationship'])\n",
    "    \n",
    "for edge in edges_3rd:\n",
    "    network2.add_edge(edge['start']['id'], edge['end']['id'], title = edge['relationship'])\n",
    "    \n",
    "for edge in edges_4th:\n",
    "    network2.add_edge(edge['start']['id'], edge['end']['id'], title = edge['relationship'])"
   ]
  },
  {
   "cell_type": "code",
   "execution_count": 114,
   "metadata": {},
   "outputs": [
    {
     "data": {
      "text/html": [
       "\n",
       "        <iframe\n",
       "            width=\"100%\"\n",
       "            height=\"750px\"\n",
       "            src=\"Recommendation_purchase_one_prod.html\"\n",
       "            frameborder=\"0\"\n",
       "            allowfullscreen\n",
       "        ></iframe>\n",
       "        "
      ],
      "text/plain": [
       "<IPython.lib.display.IFrame at 0x7fe312227b50>"
      ]
     },
     "execution_count": 114,
     "metadata": {},
     "output_type": "execute_result"
    }
   ],
   "source": [
    "network2.show('./graph/Recommendation_purchase_one_prod.html')"
   ]
  },
  {
   "cell_type": "markdown",
   "metadata": {},
   "source": [
    "## 특정 상품을 본 사람들이 구매한 다른 상품 추천"
   ]
  },
  {
   "cell_type": "markdown",
   "metadata": {},
   "source": [
    "### Table format"
   ]
  },
  {
   "cell_type": "code",
   "execution_count": 122,
   "metadata": {},
   "outputs": [],
   "source": [
    "query_rec_v_p = \"\"\"match (p:product {id: 183})<-[:view]-(u:customer)-[t:transact]->(o:order)-[c:contain]->(rec_prod:product) \n",
    "                    where not rec_prod.id = 183 \n",
    "                    return toJson(rec_prod) as rec_prod_node, count(c) as count \n",
    "                    order by count desc limit 5;\"\"\""
   ]
  },
  {
   "cell_type": "code",
   "execution_count": 123,
   "metadata": {},
   "outputs": [
    {
     "data": {
      "text/html": [
       "<div>\n",
       "<style scoped>\n",
       "    .dataframe tbody tr th:only-of-type {\n",
       "        vertical-align: middle;\n",
       "    }\n",
       "\n",
       "    .dataframe tbody tr th {\n",
       "        vertical-align: top;\n",
       "    }\n",
       "\n",
       "    .dataframe thead th {\n",
       "        text-align: right;\n",
       "    }\n",
       "</style>\n",
       "<table border=\"1\" class=\"dataframe\">\n",
       "  <thead>\n",
       "    <tr style=\"text-align: right;\">\n",
       "      <th></th>\n",
       "      <th>product_id</th>\n",
       "      <th>product_sku</th>\n",
       "      <th>count</th>\n",
       "    </tr>\n",
       "  </thead>\n",
       "  <tbody>\n",
       "    <tr>\n",
       "      <th>0</th>\n",
       "      <td>189</td>\n",
       "      <td>[113]</td>\n",
       "      <td>1</td>\n",
       "    </tr>\n",
       "    <tr>\n",
       "      <th>1</th>\n",
       "      <td>42</td>\n",
       "      <td>[64]</td>\n",
       "      <td>1</td>\n",
       "    </tr>\n",
       "    <tr>\n",
       "      <th>2</th>\n",
       "      <td>192</td>\n",
       "      <td>[83]</td>\n",
       "      <td>1</td>\n",
       "    </tr>\n",
       "    <tr>\n",
       "      <th>3</th>\n",
       "      <td>75</td>\n",
       "      <td>[186]</td>\n",
       "      <td>1</td>\n",
       "    </tr>\n",
       "    <tr>\n",
       "      <th>4</th>\n",
       "      <td>138</td>\n",
       "      <td>[82]</td>\n",
       "      <td>1</td>\n",
       "    </tr>\n",
       "  </tbody>\n",
       "</table>\n",
       "</div>"
      ],
      "text/plain": [
       "   product_id product_sku  count\n",
       "0         189       [113]      1\n",
       "1          42        [64]      1\n",
       "2         192        [83]      1\n",
       "3          75       [186]      1\n",
       "4         138        [82]      1"
      ]
     },
     "execution_count": 123,
     "metadata": {},
     "output_type": "execute_result"
    }
   ],
   "source": [
    "rec_v_top_p = recommendation_prod(query_rec_v_p)\n",
    "rec_v_top_p"
   ]
  },
  {
   "cell_type": "markdown",
   "metadata": {},
   "source": [
    "### Graph format"
   ]
  },
  {
   "cell_type": "code",
   "execution_count": 126,
   "metadata": {},
   "outputs": [],
   "source": [
    "query_rec_v_p = \"\"\"match (p:product {id: 183})<-[:view]-(u:customer)-[t:transact]->(o:order)-[c:contain]->(rec_prod:product)\n",
    "                    where not rec_prod.id = 183 \n",
    "                    with rec_prod, count(c) as count order by count desc limit 5 \n",
    "                    match (rec_prod)<-[c:contain]-(o:order)-[t:transact]-(u:customer)-[v:view]->(p:product {id:183}) \n",
    "                    return toJson(collect(distinct rec_prod)) as rec_prod,\n",
    "                    toJson(collect(distinct c)) as edges_1st, \n",
    "                    toJson(collect(distinct o)) as rec_order,\n",
    "                    toJson(collect(distinct t)) as edges_2nd,\n",
    "                    toJson(collect(distinct u)) as users,\n",
    "                    toJson(collect(distinct v)) as edges_3rd,\n",
    "                    toJson(collect(distinct p)) as spec_prod;\"\"\"\n",
    "\n",
    "result_rec_v_top_p = purchase_graph.query(query_rec_v_p)"
   ]
  },
  {
   "cell_type": "code",
   "execution_count": 127,
   "metadata": {},
   "outputs": [],
   "source": [
    "records = result_rec_v_top_p.result_set[0]"
   ]
  },
  {
   "cell_type": "code",
   "execution_count": 128,
   "metadata": {},
   "outputs": [],
   "source": [
    "rec_prod = ast.literal_eval(records[0])\n",
    "edges_1st = ast.literal_eval(records[1])\n",
    "rec_order = ast.literal_eval(records[2])\n",
    "edges_2nd = ast.literal_eval(records[3])\n",
    "users = ast.literal_eval(records[4])\n",
    "edges_3rd = ast.literal_eval(records[5])\n",
    "spec_prod = ast.literal_eval(records[6])"
   ]
  },
  {
   "cell_type": "code",
   "execution_count": 129,
   "metadata": {},
   "outputs": [],
   "source": [
    "network3 = Network(height=\"750px\", width=\"100%\", font_color=\"black\", \n",
    "                   heading=\"Recommendation for users who view the specific product\", directed = True, notebook=True)"
   ]
  },
  {
   "cell_type": "code",
   "execution_count": 130,
   "metadata": {},
   "outputs": [],
   "source": [
    "network3.barnes_hut(gravity=-7000, central_gravity=0.02, spring_length=80, damping=0.05, overlap=0.50)"
   ]
  },
  {
   "cell_type": "code",
   "execution_count": 135,
   "metadata": {},
   "outputs": [],
   "source": [
    "for node in rec_prod:\n",
    "    network3.add_node(node['id'], label = node['properties']['name'], \n",
    "                     title = node['labels'], color = '#771DAE')\n",
    "\n",
    "for node in rec_order:\n",
    "    network3.add_node(node['id'], label = node['properties']['name'], \n",
    "                     title = node['labels'], color = '#949494')\n",
    "    \n",
    "for node in users:\n",
    "    network3.add_node(node['id'], label = node['properties']['name'], \n",
    "                     title = node['labels'], color = '#B8B5D2')\n",
    "    \n",
    "for node in spec_prod:\n",
    "    network3.add_node(node['id'], label = node['properties']['name'], \n",
    "                     title = node['labels'], color = '#F30259')"
   ]
  },
  {
   "cell_type": "code",
   "execution_count": 136,
   "metadata": {},
   "outputs": [],
   "source": [
    "for edge in edges_1st:\n",
    "    network3.add_edge(edge['start']['id'], edge['end']['id'], title = edge['relationship'])\n",
    "    \n",
    "for edge in edges_2nd:\n",
    "    network3.add_edge(edge['start']['id'], edge['end']['id'], title = edge['relationship'])\n",
    "    \n",
    "for edge in edges_3rd:\n",
    "    network3.add_edge(edge['start']['id'], edge['end']['id'], title = edge['relationship'])"
   ]
  },
  {
   "cell_type": "code",
   "execution_count": 137,
   "metadata": {},
   "outputs": [
    {
     "data": {
      "text/html": [
       "\n",
       "        <iframe\n",
       "            width=\"100%\"\n",
       "            height=\"750px\"\n",
       "            src=\"Recommendation_view_one_purchase_prod.html\"\n",
       "            frameborder=\"0\"\n",
       "            allowfullscreen\n",
       "        ></iframe>\n",
       "        "
      ],
      "text/plain": [
       "<IPython.lib.display.IFrame at 0x7fe32026f1c0>"
      ]
     },
     "execution_count": 137,
     "metadata": {},
     "output_type": "execute_result"
    }
   ],
   "source": [
    "network3.show('./graph/Recommendation_view_one_purchase_prod.html')"
   ]
  },
  {
   "cell_type": "markdown",
   "metadata": {},
   "source": [
    "## 특정 상품을 구매한 사람들이 본 다른 상품"
   ]
  },
  {
   "cell_type": "markdown",
   "metadata": {},
   "source": [
    "### Table format"
   ]
  },
  {
   "cell_type": "code",
   "execution_count": 138,
   "metadata": {},
   "outputs": [
    {
     "data": {
      "text/html": [
       "<div>\n",
       "<style scoped>\n",
       "    .dataframe tbody tr th:only-of-type {\n",
       "        vertical-align: middle;\n",
       "    }\n",
       "\n",
       "    .dataframe tbody tr th {\n",
       "        vertical-align: top;\n",
       "    }\n",
       "\n",
       "    .dataframe thead th {\n",
       "        text-align: right;\n",
       "    }\n",
       "</style>\n",
       "<table border=\"1\" class=\"dataframe\">\n",
       "  <thead>\n",
       "    <tr style=\"text-align: right;\">\n",
       "      <th></th>\n",
       "      <th>product_id</th>\n",
       "      <th>product_sku</th>\n",
       "      <th>count</th>\n",
       "    </tr>\n",
       "  </thead>\n",
       "  <tbody>\n",
       "    <tr>\n",
       "      <th>0</th>\n",
       "      <td>134</td>\n",
       "      <td>[110]</td>\n",
       "      <td>2</td>\n",
       "    </tr>\n",
       "    <tr>\n",
       "      <th>1</th>\n",
       "      <td>8</td>\n",
       "      <td>[36]</td>\n",
       "      <td>2</td>\n",
       "    </tr>\n",
       "    <tr>\n",
       "      <th>2</th>\n",
       "      <td>146</td>\n",
       "      <td>[194]</td>\n",
       "      <td>2</td>\n",
       "    </tr>\n",
       "    <tr>\n",
       "      <th>3</th>\n",
       "      <td>106</td>\n",
       "      <td>[9]</td>\n",
       "      <td>1</td>\n",
       "    </tr>\n",
       "    <tr>\n",
       "      <th>4</th>\n",
       "      <td>186</td>\n",
       "      <td>[43]</td>\n",
       "      <td>1</td>\n",
       "    </tr>\n",
       "  </tbody>\n",
       "</table>\n",
       "</div>"
      ],
      "text/plain": [
       "   product_id product_sku  count\n",
       "0         134       [110]      2\n",
       "1           8        [36]      2\n",
       "2         146       [194]      2\n",
       "3         106         [9]      1\n",
       "4         186        [43]      1"
      ]
     },
     "execution_count": 138,
     "metadata": {},
     "output_type": "execute_result"
    }
   ],
   "source": [
    "query_rec_p_v = \"\"\"match (p:product {id: 25})<-[c1:contain]-(o1:order)<-[t1:transact]-(u:customer)\n",
    "                    with p, c1, o1, t1,u\n",
    "                    match (u)-[v: view]->(rec_prod:product)\n",
    "                    where not rec_prod.id = 25\n",
    "                    return toJson(rec_prod) as rec_prod_node, count(v) as count \n",
    "                    order by count desc limit 5;\"\"\"\n",
    "\n",
    "rec_p_top_v = recommendation_prod(query_rec_p_v)\n",
    "rec_p_top_v"
   ]
  },
  {
   "cell_type": "markdown",
   "metadata": {},
   "source": [
    "### Graph format"
   ]
  },
  {
   "cell_type": "code",
   "execution_count": 141,
   "metadata": {},
   "outputs": [],
   "source": [
    "query_rec_rec_p_v  = \"\"\"match (p:product {id: 25})<-[c1:contain]-(o1:order)<-[t1:transact]-(u:customer)\n",
    "                        with p, c1, o1, t1,u\n",
    "                        match (u)-[v: view]->(rec_prod:product)\n",
    "                        where not rec_prod.id = 25\n",
    "                        with rec_prod, count(v) as count order by count desc limit 5\n",
    "                        match (rec_prod)<-[v: view]-(u:customer)-[t1:transact]->(o1:order)-[c1:contain]->(p:product {id: 25})\n",
    "                        return toJson(collect(distinct rec_prod)) as rec_prod,\n",
    "                        toJson(collect(distinct v)) as edges_1st, \n",
    "                        toJson(collect(distinct u)) as users,\n",
    "                        toJson(collect(distinct t1)) as edges_2nd,\n",
    "                        toJson(collect(distinct o1)) as order_spec_prod,\n",
    "                        toJson(collect(distinct c1)) as edges_3rd,\n",
    "                        toJson(collect(distinct p)) as spec_prod;\"\"\"\n",
    "\n",
    "result_rec_p_v = purchase_graph.query(query_rec_rec_p_v )"
   ]
  },
  {
   "cell_type": "code",
   "execution_count": 140,
   "metadata": {},
   "outputs": [],
   "source": [
    "records = result_rec_p_v.result_set[0]"
   ]
  },
  {
   "cell_type": "code",
   "execution_count": 142,
   "metadata": {},
   "outputs": [],
   "source": [
    "rec_prod = ast.literal_eval(records[0])\n",
    "edges_1st = ast.literal_eval(records[1])\n",
    "users = ast.literal_eval(records[2])\n",
    "edges_2nd = ast.literal_eval(records[3])\n",
    "order_spec_prod = ast.literal_eval(records[4])\n",
    "edges_3rd = ast.literal_eval(records[5])\n",
    "spec_prod = ast.literal_eval(records[6])"
   ]
  },
  {
   "cell_type": "code",
   "execution_count": 149,
   "metadata": {},
   "outputs": [],
   "source": [
    "network4 = Network(height=\"750px\", width=\"100%\", font_color=\"black\", \n",
    "                   heading=\"Recommendation for users who purchase the specific product\", directed = True, notebook=True)"
   ]
  },
  {
   "cell_type": "code",
   "execution_count": 150,
   "metadata": {},
   "outputs": [],
   "source": [
    "network4.barnes_hut(gravity=-7000, central_gravity=0.02, spring_length=80, damping=0.05, overlap=0.50)"
   ]
  },
  {
   "cell_type": "code",
   "execution_count": 151,
   "metadata": {},
   "outputs": [],
   "source": [
    "for node in rec_prod:\n",
    "    network4.add_node(node['id'], label = node['properties']['name'], \n",
    "                     title = node['labels'], color = '#771DAE')\n",
    "\n",
    "for node in users:\n",
    "    network4.add_node(node['id'], label = node['properties']['name'], \n",
    "                     title = node['labels'], color = '#B8B5D2')\n",
    "    \n",
    "for node in order_spec_prod:\n",
    "    network4.add_node(node['id'], label = node['properties']['name'], \n",
    "                     title = node['labels'], color = '#949494')\n",
    "    \n",
    "for node in spec_prod:\n",
    "    network4.add_node(node['id'], label = node['properties']['name'], \n",
    "                     title = node['labels'], color = '#F30259')"
   ]
  },
  {
   "cell_type": "code",
   "execution_count": 152,
   "metadata": {},
   "outputs": [],
   "source": [
    "for edge in edges_1st:\n",
    "    network4.add_edge(edge['start']['id'], edge['end']['id'], title = edge['relationship'])\n",
    "    \n",
    "for edge in edges_2nd:\n",
    "    network4.add_edge(edge['start']['id'], edge['end']['id'], title = edge['relationship'])\n",
    "    \n",
    "for edge in edges_3rd:\n",
    "    network4.add_edge(edge['start']['id'], edge['end']['id'], title = edge['relationship'])"
   ]
  },
  {
   "cell_type": "code",
   "execution_count": 153,
   "metadata": {},
   "outputs": [
    {
     "data": {
      "text/html": [
       "\n",
       "        <iframe\n",
       "            width=\"100%\"\n",
       "            height=\"750px\"\n",
       "            src=\"Recommendation_purchase_one_view_prod.html\"\n",
       "            frameborder=\"0\"\n",
       "            allowfullscreen\n",
       "        ></iframe>\n",
       "        "
      ],
      "text/plain": [
       "<IPython.lib.display.IFrame at 0x7fe2c008e190>"
      ]
     },
     "execution_count": 153,
     "metadata": {},
     "output_type": "execute_result"
    }
   ],
   "source": [
    "network4.show('./graph/Recommendation_purchase_one_view_prod.html')"
   ]
  },
  {
   "cell_type": "code",
   "execution_count": null,
   "metadata": {},
   "outputs": [],
   "source": []
  }
 ],
 "metadata": {
  "kernelspec": {
   "display_name": "Python 3",
   "language": "python",
   "name": "python3"
  },
  "language_info": {
   "codemirror_mode": {
    "name": "ipython",
    "version": 3
   },
   "file_extension": ".py",
   "mimetype": "text/x-python",
   "name": "python",
   "nbconvert_exporter": "python",
   "pygments_lexer": "ipython3",
   "version": "3.8.5"
  },
  "toc": {
   "base_numbering": 1,
   "nav_menu": {},
   "number_sections": true,
   "sideBar": true,
   "skip_h1_title": false,
   "title_cell": "Table of Contents",
   "title_sidebar": "Contents",
   "toc_cell": false,
   "toc_position": {},
   "toc_section_display": true,
   "toc_window_display": true
  }
 },
 "nbformat": 4,
 "nbformat_minor": 4
}
