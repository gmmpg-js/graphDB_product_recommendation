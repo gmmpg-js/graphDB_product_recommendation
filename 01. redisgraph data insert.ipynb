{
 "cells": [
  {
   "cell_type": "markdown",
   "metadata": {},
   "source": [
    "# 참고자료\n",
    "\n",
    "- https://joshdurbin.net/posts/2020-5-redis-graph-product-recommendation-opencypher/\n",
    "- https://go.neo4j.com/rs/710-RRC-335/images/Neo4j_WP_Recommendations_EN_BUS.pdf?_gl=1*qnfpgj*_ga*MTY1MTQ4Mjk4NS4xNjE1MTY2MTQ1*_ga_DL38Q8KGQC*MTYxOTA0NjE5NS40LjEuMTYxOTA0NjM3Ni4w&_ga=2.171976224.242446795.1619046196-1651482985.1615166145"
   ]
  },
  {
   "cell_type": "markdown",
   "metadata": {},
   "source": [
    "# 모듈 및 데이터 불러오기"
   ]
  },
  {
   "cell_type": "code",
   "execution_count": 1,
   "metadata": {},
   "outputs": [],
   "source": [
    "import pandas as pd \n",
    "import seaborn as sns \n",
    "import matplotlib.pyplot as plt\n",
    "import ast\n",
    "import copy\n",
    "import numpy as np\n",
    "\n",
    "import redis\n",
    "from redisgraph import Node, Edge, Graph, Path\n",
    "\n",
    "%matplotlib inline"
   ]
  },
  {
   "cell_type": "code",
   "execution_count": 2,
   "metadata": {},
   "outputs": [
    {
     "data": {
      "text/html": [
       "<div>\n",
       "<style scoped>\n",
       "    .dataframe tbody tr th:only-of-type {\n",
       "        vertical-align: middle;\n",
       "    }\n",
       "\n",
       "    .dataframe tbody tr th {\n",
       "        vertical-align: top;\n",
       "    }\n",
       "\n",
       "    .dataframe thead th {\n",
       "        text-align: right;\n",
       "    }\n",
       "</style>\n",
       "<table border=\"1\" class=\"dataframe\">\n",
       "  <thead>\n",
       "    <tr style=\"text-align: right;\">\n",
       "      <th></th>\n",
       "      <th>eventtime</th>\n",
       "      <th>userid</th>\n",
       "      <th>behavior</th>\n",
       "      <th>prod_sku</th>\n",
       "    </tr>\n",
       "  </thead>\n",
       "  <tbody>\n",
       "    <tr>\n",
       "      <th>0</th>\n",
       "      <td>2021-10-01 00:00:12.648</td>\n",
       "      <td>3692</td>\n",
       "      <td>view</td>\n",
       "      <td>[134]</td>\n",
       "    </tr>\n",
       "    <tr>\n",
       "      <th>1</th>\n",
       "      <td>2021-10-01 00:00:13.617</td>\n",
       "      <td>2921</td>\n",
       "      <td>addtocart</td>\n",
       "      <td>[94]</td>\n",
       "    </tr>\n",
       "  </tbody>\n",
       "</table>\n",
       "</div>"
      ],
      "text/plain": [
       "                eventtime  userid   behavior prod_sku\n",
       "0 2021-10-01 00:00:12.648    3692       view    [134]\n",
       "1 2021-10-01 00:00:13.617    2921  addtocart     [94]"
      ]
     },
     "execution_count": 2,
     "metadata": {},
     "output_type": "execute_result"
    }
   ],
   "source": [
    "purchase_data = pd.read_excel('./data/random_user_behavior_1week_gmmpg_js.xlsx')\n",
    "purchase_data.head(2)"
   ]
  },
  {
   "cell_type": "code",
   "execution_count": 3,
   "metadata": {},
   "outputs": [
    {
     "name": "stdout",
     "output_type": "stream",
     "text": [
      "<class 'pandas.core.frame.DataFrame'>\n",
      "RangeIndex: 60000 entries, 0 to 59999\n",
      "Data columns (total 4 columns):\n",
      " #   Column     Non-Null Count  Dtype         \n",
      "---  ------     --------------  -----         \n",
      " 0   eventtime  60000 non-null  datetime64[ns]\n",
      " 1   userid     60000 non-null  int64         \n",
      " 2   behavior   60000 non-null  object        \n",
      " 3   prod_sku   60000 non-null  object        \n",
      "dtypes: datetime64[ns](1), int64(1), object(2)\n",
      "memory usage: 1.8+ MB\n"
     ]
    }
   ],
   "source": [
    "purchase_data.info()"
   ]
  },
  {
   "cell_type": "markdown",
   "metadata": {},
   "source": [
    "## 방문 고객 EDA"
   ]
  },
  {
   "cell_type": "code",
   "execution_count": 4,
   "metadata": {
    "scrolled": false
   },
   "outputs": [
    {
     "data": {
      "text/plain": [
       "4279    18\n",
       "2521    18\n",
       "6372    18\n",
       "3159    18\n",
       "3536    17\n",
       "        ..\n",
       "6682     1\n",
       "3647     1\n",
       "3792     1\n",
       "1024     1\n",
       "1338     1\n",
       "Name: userid, Length: 7998, dtype: int64"
      ]
     },
     "execution_count": 4,
     "metadata": {},
     "output_type": "execute_result"
    }
   ],
   "source": [
    "purchase_data.userid.value_counts()"
   ]
  },
  {
   "cell_type": "markdown",
   "metadata": {},
   "source": [
    "## 구매 행동 EDA"
   ]
  },
  {
   "cell_type": "code",
   "execution_count": 5,
   "metadata": {
    "scrolled": true
   },
   "outputs": [
    {
     "data": {
      "text/plain": [
       "view         49737\n",
       "checkout      4531\n",
       "addtocart     3168\n",
       "transact      2556\n",
       "refund           8\n",
       "Name: behavior, dtype: int64"
      ]
     },
     "execution_count": 5,
     "metadata": {},
     "output_type": "execute_result"
    }
   ],
   "source": [
    "purchase_data.behavior.value_counts()\n",
    "\n",
    "# 총 5가지의 구매 행위\n",
    "# 상세 페이지(detail), 결제창(checkout), 상품 추가(add), \n",
    "# 구매(purchase), 환불(refund)"
   ]
  },
  {
   "cell_type": "markdown",
   "metadata": {},
   "source": [
    "## 상품 종류 EDA"
   ]
  },
  {
   "cell_type": "code",
   "execution_count": 6,
   "metadata": {},
   "outputs": [
    {
     "data": {
      "text/plain": [
       "[159]                              316\n",
       "[145]                              316\n",
       "[63]                               305\n",
       "[57]                               305\n",
       "[68]                               301\n",
       "                                  ... \n",
       "[2, 139, 116]                        1\n",
       "[66, 45, 30, 105, 83]                1\n",
       "[82, 121, 78, 60, 102, 61, 10]       1\n",
       "[90, 169, 60, 110, 65, 23, 146]      1\n",
       "[51, 185]                            1\n",
       "Name: prod_sku, Length: 6521, dtype: int64"
      ]
     },
     "execution_count": 6,
     "metadata": {},
     "output_type": "execute_result"
    }
   ],
   "source": [
    "purchase_data.prod_sku.value_counts()\n",
    "\n",
    "# check_out과 puchase에서 상품 종류 복수개 list 존재\n",
    "# graph-data import 진행하는 경우, Data 분리 필요\n",
    "# 이후 같은 구매라고 식별하기 위해서 behavior time과 고객 ID를 key값으로 하여 식별 가능함 "
   ]
  },
  {
   "cell_type": "code",
   "execution_count": 7,
   "metadata": {},
   "outputs": [
    {
     "data": {
      "text/plain": [
       "Series([], Name: prod_sku, dtype: object)"
      ]
     },
     "execution_count": 7,
     "metadata": {},
     "output_type": "execute_result"
    }
   ],
   "source": [
    "purchase_data.loc[purchase_data.behavior == 'detail', 'prod_sku'].apply(lambda x: len(ast.literal_eval(x))).sort_values(ascending=False)"
   ]
  },
  {
   "cell_type": "code",
   "execution_count": 8,
   "metadata": {},
   "outputs": [
    {
     "data": {
      "text/plain": [
       "59999    10\n",
       "35696    10\n",
       "37120    10\n",
       "37101    10\n",
       "37075    10\n",
       "         ..\n",
       "55869     1\n",
       "7164      1\n",
       "44010     1\n",
       "44039     1\n",
       "54792     1\n",
       "Name: prod_sku, Length: 4531, dtype: int64"
      ]
     },
     "execution_count": 8,
     "metadata": {},
     "output_type": "execute_result"
    }
   ],
   "source": [
    "purchase_data.loc[purchase_data.behavior == 'checkout', 'prod_sku'].apply(lambda x: len(ast.literal_eval(x))).sort_values(ascending=False)"
   ]
  },
  {
   "cell_type": "code",
   "execution_count": 9,
   "metadata": {},
   "outputs": [
    {
     "data": {
      "text/plain": [
       "Series([], Name: prod_sku, dtype: object)"
      ]
     },
     "execution_count": 9,
     "metadata": {},
     "output_type": "execute_result"
    }
   ],
   "source": [
    "purchase_data.loc[purchase_data.behavior == 'purchase', 'prod_sku'].apply(lambda x: len(ast.literal_eval(x))).sort_values(ascending=False)"
   ]
  },
  {
   "cell_type": "code",
   "execution_count": 10,
   "metadata": {},
   "outputs": [
    {
     "data": {
      "text/plain": [
       "Series([], Name: prod_sku, dtype: object)"
      ]
     },
     "execution_count": 10,
     "metadata": {},
     "output_type": "execute_result"
    }
   ],
   "source": [
    "purchase_data.loc[purchase_data.behavior == 'add', 'prod_sku'].apply(lambda x: len(ast.literal_eval(x))).sort_values(ascending=False)"
   ]
  },
  {
   "cell_type": "code",
   "execution_count": 11,
   "metadata": {},
   "outputs": [
    {
     "data": {
      "text/plain": [
       "56523    1\n",
       "53061    1\n",
       "22363    1\n",
       "22272    1\n",
       "19025    1\n",
       "9329     1\n",
       "8741     1\n",
       "3617     1\n",
       "Name: prod_sku, dtype: int64"
      ]
     },
     "execution_count": 11,
     "metadata": {},
     "output_type": "execute_result"
    }
   ],
   "source": [
    "purchase_data.loc[purchase_data.behavior == 'refund', 'prod_sku'].apply(lambda x: len(ast.literal_eval(x))).sort_values(ascending=False)"
   ]
  },
  {
   "cell_type": "markdown",
   "metadata": {},
   "source": [
    "# Data Preprocessing"
   ]
  },
  {
   "cell_type": "markdown",
   "metadata": {},
   "source": [
    "## purchase 행동 식별 ID 부여\n",
    "\n",
    "- 구분되는 Node 및 Edge 생성을 위함\n",
    "- 데이터가 실시간으로 들어오는 경우, 신규 데이터 처리 어떻게 할 것인지?\n",
    "    - 추가 data에서 구매ID 필요\n",
    "    - Test에서는 순서대로 0부터 ID 값을 부여하는 것으로 정함 "
   ]
  },
  {
   "cell_type": "code",
   "execution_count": 12,
   "metadata": {},
   "outputs": [
    {
     "data": {
      "text/html": [
       "<div>\n",
       "<style scoped>\n",
       "    .dataframe tbody tr th:only-of-type {\n",
       "        vertical-align: middle;\n",
       "    }\n",
       "\n",
       "    .dataframe tbody tr th {\n",
       "        vertical-align: top;\n",
       "    }\n",
       "\n",
       "    .dataframe thead th {\n",
       "        text-align: right;\n",
       "    }\n",
       "</style>\n",
       "<table border=\"1\" class=\"dataframe\">\n",
       "  <thead>\n",
       "    <tr style=\"text-align: right;\">\n",
       "      <th></th>\n",
       "      <th>eventtime</th>\n",
       "      <th>userid</th>\n",
       "      <th>behavior</th>\n",
       "      <th>prod_sku</th>\n",
       "    </tr>\n",
       "  </thead>\n",
       "  <tbody>\n",
       "    <tr>\n",
       "      <th>0</th>\n",
       "      <td>2021-10-01 00:00:12.648</td>\n",
       "      <td>3692</td>\n",
       "      <td>view</td>\n",
       "      <td>[134]</td>\n",
       "    </tr>\n",
       "    <tr>\n",
       "      <th>1</th>\n",
       "      <td>2021-10-01 00:00:13.617</td>\n",
       "      <td>2921</td>\n",
       "      <td>addtocart</td>\n",
       "      <td>[94]</td>\n",
       "    </tr>\n",
       "  </tbody>\n",
       "</table>\n",
       "</div>"
      ],
      "text/plain": [
       "                eventtime  userid   behavior prod_sku\n",
       "0 2021-10-01 00:00:12.648    3692       view    [134]\n",
       "1 2021-10-01 00:00:13.617    2921  addtocart     [94]"
      ]
     },
     "execution_count": 12,
     "metadata": {},
     "output_type": "execute_result"
    }
   ],
   "source": [
    "copy_data = copy.deepcopy(purchase_data)\n",
    "copy_data.head(2)"
   ]
  },
  {
   "cell_type": "code",
   "execution_count": 13,
   "metadata": {},
   "outputs": [],
   "source": [
    "copy_data.loc[copy_data.behavior == 'transact', 'purchase_id'] = range(len(copy_data[copy_data.behavior == 'transact']))"
   ]
  },
  {
   "cell_type": "code",
   "execution_count": 14,
   "metadata": {},
   "outputs": [
    {
     "data": {
      "text/plain": [
       "15          0.0\n",
       "82          1.0\n",
       "147         2.0\n",
       "164         3.0\n",
       "171         4.0\n",
       "          ...  \n",
       "59921    2551.0\n",
       "59943    2552.0\n",
       "59947    2553.0\n",
       "59984    2554.0\n",
       "59995    2555.0\n",
       "Name: purchase_id, Length: 2556, dtype: float64"
      ]
     },
     "execution_count": 14,
     "metadata": {},
     "output_type": "execute_result"
    }
   ],
   "source": [
    "copy_data.purchase_id[~copy_data.purchase_id.isnull()]"
   ]
  },
  {
   "cell_type": "markdown",
   "metadata": {},
   "source": [
    "## checkout and purchase 행동의 상품 항목 분리"
   ]
  },
  {
   "cell_type": "code",
   "execution_count": 15,
   "metadata": {},
   "outputs": [],
   "source": [
    "copy_data[\"product_num\"] = copy_data.prod_sku.apply(lambda x: len(ast.literal_eval(x)))"
   ]
  },
  {
   "cell_type": "code",
   "execution_count": 16,
   "metadata": {},
   "outputs": [
    {
     "data": {
      "text/plain": [
       "15                      [117, 109, 139, 108, 77, 1, 49]\n",
       "26       [157, 127, 4, 102, 62, 101, 43, 163, 181, 147]\n",
       "37          [55, 31, 56, 13, 36, 125, 18, 101, 155, 45]\n",
       "62                                    [44, 114, 94, 98]\n",
       "65                                        [167, 47, 24]\n",
       "                              ...                      \n",
       "59982                      [77, 32, 34, 70, 85, 7, 194]\n",
       "59984                                 [22, 45, 98, 168]\n",
       "59994                        [73, 180, 146, 109, 99, 9]\n",
       "59995                     [10, 8, 9, 61, 53, 1, 14, 78]\n",
       "59999      [117, 46, 69, 116, 85, 82, 56, 148, 139, 99]\n",
       "Name: prod_sku, Length: 6329, dtype: object"
      ]
     },
     "execution_count": 16,
     "metadata": {},
     "output_type": "execute_result"
    }
   ],
   "source": [
    "copy_data.loc[copy_data.product_num >= 2, 'prod_sku'].apply(lambda x: ast.literal_eval(x))"
   ]
  },
  {
   "cell_type": "code",
   "execution_count": 17,
   "metadata": {},
   "outputs": [],
   "source": [
    "# 분리 대상 index \n",
    "div_idx = copy_data.loc[copy_data.product_num >= 2, 'prod_sku'].index"
   ]
  },
  {
   "cell_type": "code",
   "execution_count": 18,
   "metadata": {},
   "outputs": [],
   "source": [
    "chg_li = []\n",
    "\n",
    "for i in div_idx:\n",
    "    for c in range(copy_data.loc[i, 'product_num']):\n",
    "        temp_dict = copy_data.loc[i].to_dict()\n",
    "        temp_sku = ast.literal_eval(copy_data.loc[i, 'prod_sku'])[c] # 복수개 상품 중 한개\n",
    "        \n",
    "        temp_dict['prod_sku'] = '['+str(temp_sku)+']' # 해당 튜플에 상품 한개씩 담에 여러개의 튜플 생성 목적\n",
    "        \n",
    "        chg_li.append(temp_dict)"
   ]
  },
  {
   "cell_type": "code",
   "execution_count": 19,
   "metadata": {},
   "outputs": [],
   "source": [
    "copy_data.drop(div_idx, inplace=True) # 분리 대상 튜플 삭제 후, 분리 데이터 chg_li와 결합 준비 \n",
    "copy_data.index = range(len(copy_data))"
   ]
  },
  {
   "cell_type": "code",
   "execution_count": 20,
   "metadata": {},
   "outputs": [
    {
     "data": {
      "text/html": [
       "<div>\n",
       "<style scoped>\n",
       "    .dataframe tbody tr th:only-of-type {\n",
       "        vertical-align: middle;\n",
       "    }\n",
       "\n",
       "    .dataframe tbody tr th {\n",
       "        vertical-align: top;\n",
       "    }\n",
       "\n",
       "    .dataframe thead th {\n",
       "        text-align: right;\n",
       "    }\n",
       "</style>\n",
       "<table border=\"1\" class=\"dataframe\">\n",
       "  <thead>\n",
       "    <tr style=\"text-align: right;\">\n",
       "      <th></th>\n",
       "      <th>eventtime</th>\n",
       "      <th>userid</th>\n",
       "      <th>behavior</th>\n",
       "      <th>prod_sku</th>\n",
       "      <th>purchase_id</th>\n",
       "      <th>product_num</th>\n",
       "    </tr>\n",
       "  </thead>\n",
       "  <tbody>\n",
       "    <tr>\n",
       "      <th>0</th>\n",
       "      <td>2021-10-01 00:03:00.661</td>\n",
       "      <td>5655</td>\n",
       "      <td>transact</td>\n",
       "      <td>[117]</td>\n",
       "      <td>0.0</td>\n",
       "      <td>7</td>\n",
       "    </tr>\n",
       "    <tr>\n",
       "      <th>1</th>\n",
       "      <td>2021-10-01 00:03:00.661</td>\n",
       "      <td>5655</td>\n",
       "      <td>transact</td>\n",
       "      <td>[109]</td>\n",
       "      <td>0.0</td>\n",
       "      <td>7</td>\n",
       "    </tr>\n",
       "  </tbody>\n",
       "</table>\n",
       "</div>"
      ],
      "text/plain": [
       "                eventtime  userid  behavior prod_sku  purchase_id  product_num\n",
       "0 2021-10-01 00:03:00.661    5655  transact    [117]          0.0            7\n",
       "1 2021-10-01 00:03:00.661    5655  transact    [109]          0.0            7"
      ]
     },
     "execution_count": 20,
     "metadata": {},
     "output_type": "execute_result"
    }
   ],
   "source": [
    "chg_df = pd.DataFrame(chg_li)\n",
    "chg_df.head(2)"
   ]
  },
  {
   "cell_type": "code",
   "execution_count": 21,
   "metadata": {},
   "outputs": [
    {
     "name": "stdout",
     "output_type": "stream",
     "text": [
      "변경전 데이터 수: 53671\n",
      "변경후 데이터 수: 90653\n"
     ]
    },
    {
     "data": {
      "text/html": [
       "<div>\n",
       "<style scoped>\n",
       "    .dataframe tbody tr th:only-of-type {\n",
       "        vertical-align: middle;\n",
       "    }\n",
       "\n",
       "    .dataframe tbody tr th {\n",
       "        vertical-align: top;\n",
       "    }\n",
       "\n",
       "    .dataframe thead th {\n",
       "        text-align: right;\n",
       "    }\n",
       "</style>\n",
       "<table border=\"1\" class=\"dataframe\">\n",
       "  <thead>\n",
       "    <tr style=\"text-align: right;\">\n",
       "      <th></th>\n",
       "      <th>eventtime</th>\n",
       "      <th>userid</th>\n",
       "      <th>behavior</th>\n",
       "      <th>prod_sku</th>\n",
       "      <th>purchase_id</th>\n",
       "      <th>product_num</th>\n",
       "    </tr>\n",
       "  </thead>\n",
       "  <tbody>\n",
       "    <tr>\n",
       "      <th>0</th>\n",
       "      <td>2021-10-01 00:00:12.648</td>\n",
       "      <td>3692</td>\n",
       "      <td>view</td>\n",
       "      <td>[134]</td>\n",
       "      <td>NaN</td>\n",
       "      <td>1</td>\n",
       "    </tr>\n",
       "    <tr>\n",
       "      <th>1</th>\n",
       "      <td>2021-10-01 00:00:13.617</td>\n",
       "      <td>2921</td>\n",
       "      <td>addtocart</td>\n",
       "      <td>[94]</td>\n",
       "      <td>NaN</td>\n",
       "      <td>1</td>\n",
       "    </tr>\n",
       "  </tbody>\n",
       "</table>\n",
       "</div>"
      ],
      "text/plain": [
       "                eventtime  userid   behavior prod_sku  purchase_id  \\\n",
       "0 2021-10-01 00:00:12.648    3692       view    [134]          NaN   \n",
       "1 2021-10-01 00:00:13.617    2921  addtocart     [94]          NaN   \n",
       "\n",
       "   product_num  \n",
       "0            1  \n",
       "1            1  "
      ]
     },
     "execution_count": 21,
     "metadata": {},
     "output_type": "execute_result"
    }
   ],
   "source": [
    "input_data = pd.concat([copy_data, chg_df])\n",
    "input_data.index=range(len(input_data))\n",
    "\n",
    "print('변경전 데이터 수:', len(copy_data))\n",
    "print('변경후 데이터 수:', len(input_data))\n",
    "input_data.head(2)"
   ]
  },
  {
   "cell_type": "markdown",
   "metadata": {},
   "source": [
    "# Input Data \n",
    "- Kinds of Node: Product, Customer, Order \n",
    "- Kinds of Edge: Refund, Detail, Checkout, Purchase, Add + Contain between Order and Product"
   ]
  },
  {
   "cell_type": "code",
   "execution_count": 22,
   "metadata": {},
   "outputs": [],
   "source": [
    "# RedisGraph Instance 생성\n",
    "r = redis.Redis(host='127.0.0.1', port=6379, db=1)"
   ]
  },
  {
   "cell_type": "code",
   "execution_count": 23,
   "metadata": {},
   "outputs": [],
   "source": [
    "purchase_graph = Graph('product_recommendation', r)"
   ]
  },
  {
   "cell_type": "markdown",
   "metadata": {},
   "source": [
    "## Generate Nodes"
   ]
  },
  {
   "cell_type": "markdown",
   "metadata": {},
   "source": [
    "### Node ID "
   ]
  },
  {
   "cell_type": "markdown",
   "metadata": {},
   "source": [
    "#### Product "
   ]
  },
  {
   "cell_type": "code",
   "execution_count": 24,
   "metadata": {},
   "outputs": [
    {
     "name": "stdout",
     "output_type": "stream",
     "text": [
      "[{'prod_sku': '[134]', 'prod_sku_id': 0}, {'prod_sku': '[94]', 'prod_sku_id': 1}, {'prod_sku': '[178]', 'prod_sku_id': 2}, {'prod_sku': '[16]', 'prod_sku_id': 3}, {'prod_sku': '[159]', 'prod_sku_id': 4}, {'prod_sku': '[169]', 'prod_sku_id': 5}, {'prod_sku': '[59]', 'prod_sku_id': 6}, {'prod_sku': '[65]', 'prod_sku_id': 7}, {'prod_sku': '[36]', 'prod_sku_id': 8}, {'prod_sku': '[26]', 'prod_sku_id': 9}]\n"
     ]
    }
   ],
   "source": [
    "prd_nodes = input_data.prod_sku.unique()\n",
    "\n",
    "prd_nodes_id = []\n",
    "\n",
    "for n, prd in enumerate(prd_nodes):\n",
    "    temp_dict = {'prod_sku': prd, 'prod_sku_id': n}\n",
    "    prd_nodes_id.append(temp_dict)\n",
    "    \n",
    "print(prd_nodes_id[:10])"
   ]
  },
  {
   "cell_type": "code",
   "execution_count": 25,
   "metadata": {},
   "outputs": [
    {
     "data": {
      "text/html": [
       "<div>\n",
       "<style scoped>\n",
       "    .dataframe tbody tr th:only-of-type {\n",
       "        vertical-align: middle;\n",
       "    }\n",
       "\n",
       "    .dataframe tbody tr th {\n",
       "        vertical-align: top;\n",
       "    }\n",
       "\n",
       "    .dataframe thead th {\n",
       "        text-align: right;\n",
       "    }\n",
       "</style>\n",
       "<table border=\"1\" class=\"dataframe\">\n",
       "  <thead>\n",
       "    <tr style=\"text-align: right;\">\n",
       "      <th></th>\n",
       "      <th>prod_sku</th>\n",
       "      <th>prod_sku_id</th>\n",
       "    </tr>\n",
       "  </thead>\n",
       "  <tbody>\n",
       "    <tr>\n",
       "      <th>0</th>\n",
       "      <td>[134]</td>\n",
       "      <td>0</td>\n",
       "    </tr>\n",
       "    <tr>\n",
       "      <th>1</th>\n",
       "      <td>[94]</td>\n",
       "      <td>1</td>\n",
       "    </tr>\n",
       "  </tbody>\n",
       "</table>\n",
       "</div>"
      ],
      "text/plain": [
       "  prod_sku  prod_sku_id\n",
       "0    [134]            0\n",
       "1     [94]            1"
      ]
     },
     "execution_count": 25,
     "metadata": {},
     "output_type": "execute_result"
    }
   ],
   "source": [
    "prd_nodes_id_df = pd.DataFrame(prd_nodes_id)\n",
    "prd_nodes_id_df.head(2)"
   ]
  },
  {
   "cell_type": "code",
   "execution_count": 26,
   "metadata": {},
   "outputs": [
    {
     "data": {
      "text/plain": [
       "[81]     1\n",
       "[88]     1\n",
       "[187]    1\n",
       "[89]     1\n",
       "[155]    1\n",
       "        ..\n",
       "[13]     1\n",
       "[7]      1\n",
       "[174]    1\n",
       "[196]    1\n",
       "[125]    1\n",
       "Name: prod_sku, Length: 200, dtype: int64"
      ]
     },
     "execution_count": 26,
     "metadata": {},
     "output_type": "execute_result"
    }
   ],
   "source": [
    "prd_nodes_id_df.prod_sku.value_counts()"
   ]
  },
  {
   "cell_type": "code",
   "execution_count": 27,
   "metadata": {},
   "outputs": [
    {
     "data": {
      "text/html": [
       "<div>\n",
       "<style scoped>\n",
       "    .dataframe tbody tr th:only-of-type {\n",
       "        vertical-align: middle;\n",
       "    }\n",
       "\n",
       "    .dataframe tbody tr th {\n",
       "        vertical-align: top;\n",
       "    }\n",
       "\n",
       "    .dataframe thead th {\n",
       "        text-align: right;\n",
       "    }\n",
       "</style>\n",
       "<table border=\"1\" class=\"dataframe\">\n",
       "  <thead>\n",
       "    <tr style=\"text-align: right;\">\n",
       "      <th></th>\n",
       "      <th>eventtime</th>\n",
       "      <th>userid</th>\n",
       "      <th>behavior</th>\n",
       "      <th>prod_sku</th>\n",
       "      <th>purchase_id</th>\n",
       "      <th>product_num</th>\n",
       "      <th>prod_sku_id</th>\n",
       "    </tr>\n",
       "  </thead>\n",
       "  <tbody>\n",
       "    <tr>\n",
       "      <th>0</th>\n",
       "      <td>2021-10-01 00:00:12.648</td>\n",
       "      <td>3692</td>\n",
       "      <td>view</td>\n",
       "      <td>[134]</td>\n",
       "      <td>NaN</td>\n",
       "      <td>1</td>\n",
       "      <td>0</td>\n",
       "    </tr>\n",
       "    <tr>\n",
       "      <th>1</th>\n",
       "      <td>2021-10-01 00:00:13.617</td>\n",
       "      <td>2921</td>\n",
       "      <td>addtocart</td>\n",
       "      <td>[94]</td>\n",
       "      <td>NaN</td>\n",
       "      <td>1</td>\n",
       "      <td>1</td>\n",
       "    </tr>\n",
       "  </tbody>\n",
       "</table>\n",
       "</div>"
      ],
      "text/plain": [
       "                eventtime  userid   behavior prod_sku  purchase_id  \\\n",
       "0 2021-10-01 00:00:12.648    3692       view    [134]          NaN   \n",
       "1 2021-10-01 00:00:13.617    2921  addtocart     [94]          NaN   \n",
       "\n",
       "   product_num  prod_sku_id  \n",
       "0            1            0  \n",
       "1            1            1  "
      ]
     },
     "execution_count": 27,
     "metadata": {},
     "output_type": "execute_result"
    }
   ],
   "source": [
    "input_data = pd.merge(input_data, prd_nodes_id_df, how='left', on='prod_sku')\n",
    "input_data.head(2)"
   ]
  },
  {
   "cell_type": "markdown",
   "metadata": {},
   "source": [
    "#### Customer"
   ]
  },
  {
   "cell_type": "code",
   "execution_count": 28,
   "metadata": {},
   "outputs": [
    {
     "name": "stdout",
     "output_type": "stream",
     "text": [
      "[{'userid': 3692, 'cust_id': 0}, {'userid': 2921, 'cust_id': 1}, {'userid': 4185, 'cust_id': 2}, {'userid': 7188, 'cust_id': 3}, {'userid': 5847, 'cust_id': 4}, {'userid': 1296, 'cust_id': 5}, {'userid': 3511, 'cust_id': 6}, {'userid': 6979, 'cust_id': 7}, {'userid': 2200, 'cust_id': 8}, {'userid': 2211, 'cust_id': 9}]\n"
     ]
    }
   ],
   "source": [
    "cust_nodes = input_data.userid.unique()\n",
    "\n",
    "cust_nodes_id = []\n",
    "\n",
    "for n, cust in enumerate(cust_nodes):\n",
    "    temp_dict = {'userid': cust, 'cust_id': n}\n",
    "    cust_nodes_id.append(temp_dict)\n",
    "    \n",
    "print(cust_nodes_id[:10])"
   ]
  },
  {
   "cell_type": "code",
   "execution_count": 29,
   "metadata": {},
   "outputs": [
    {
     "data": {
      "text/html": [
       "<div>\n",
       "<style scoped>\n",
       "    .dataframe tbody tr th:only-of-type {\n",
       "        vertical-align: middle;\n",
       "    }\n",
       "\n",
       "    .dataframe tbody tr th {\n",
       "        vertical-align: top;\n",
       "    }\n",
       "\n",
       "    .dataframe thead th {\n",
       "        text-align: right;\n",
       "    }\n",
       "</style>\n",
       "<table border=\"1\" class=\"dataframe\">\n",
       "  <thead>\n",
       "    <tr style=\"text-align: right;\">\n",
       "      <th></th>\n",
       "      <th>userid</th>\n",
       "      <th>cust_id</th>\n",
       "    </tr>\n",
       "  </thead>\n",
       "  <tbody>\n",
       "    <tr>\n",
       "      <th>0</th>\n",
       "      <td>3692</td>\n",
       "      <td>0</td>\n",
       "    </tr>\n",
       "    <tr>\n",
       "      <th>1</th>\n",
       "      <td>2921</td>\n",
       "      <td>1</td>\n",
       "    </tr>\n",
       "  </tbody>\n",
       "</table>\n",
       "</div>"
      ],
      "text/plain": [
       "   userid  cust_id\n",
       "0    3692        0\n",
       "1    2921        1"
      ]
     },
     "execution_count": 29,
     "metadata": {},
     "output_type": "execute_result"
    }
   ],
   "source": [
    "cust_nodes_id_df = pd.DataFrame(cust_nodes_id)\n",
    "cust_nodes_id_df.head(2)"
   ]
  },
  {
   "cell_type": "code",
   "execution_count": 30,
   "metadata": {},
   "outputs": [
    {
     "data": {
      "text/html": [
       "<div>\n",
       "<style scoped>\n",
       "    .dataframe tbody tr th:only-of-type {\n",
       "        vertical-align: middle;\n",
       "    }\n",
       "\n",
       "    .dataframe tbody tr th {\n",
       "        vertical-align: top;\n",
       "    }\n",
       "\n",
       "    .dataframe thead th {\n",
       "        text-align: right;\n",
       "    }\n",
       "</style>\n",
       "<table border=\"1\" class=\"dataframe\">\n",
       "  <thead>\n",
       "    <tr style=\"text-align: right;\">\n",
       "      <th></th>\n",
       "      <th>eventtime</th>\n",
       "      <th>userid</th>\n",
       "      <th>behavior</th>\n",
       "      <th>prod_sku</th>\n",
       "      <th>purchase_id</th>\n",
       "      <th>product_num</th>\n",
       "      <th>prod_sku_id</th>\n",
       "      <th>cust_id</th>\n",
       "    </tr>\n",
       "  </thead>\n",
       "  <tbody>\n",
       "    <tr>\n",
       "      <th>0</th>\n",
       "      <td>2021-10-01 00:00:12.648</td>\n",
       "      <td>3692</td>\n",
       "      <td>view</td>\n",
       "      <td>[134]</td>\n",
       "      <td>NaN</td>\n",
       "      <td>1</td>\n",
       "      <td>0</td>\n",
       "      <td>0</td>\n",
       "    </tr>\n",
       "    <tr>\n",
       "      <th>1</th>\n",
       "      <td>2021-10-01 00:00:13.617</td>\n",
       "      <td>2921</td>\n",
       "      <td>addtocart</td>\n",
       "      <td>[94]</td>\n",
       "      <td>NaN</td>\n",
       "      <td>1</td>\n",
       "      <td>1</td>\n",
       "      <td>1</td>\n",
       "    </tr>\n",
       "  </tbody>\n",
       "</table>\n",
       "</div>"
      ],
      "text/plain": [
       "                eventtime  userid   behavior prod_sku  purchase_id  \\\n",
       "0 2021-10-01 00:00:12.648    3692       view    [134]          NaN   \n",
       "1 2021-10-01 00:00:13.617    2921  addtocart     [94]          NaN   \n",
       "\n",
       "   product_num  prod_sku_id  cust_id  \n",
       "0            1            0        0  \n",
       "1            1            1        1  "
      ]
     },
     "execution_count": 30,
     "metadata": {},
     "output_type": "execute_result"
    }
   ],
   "source": [
    "input_data = pd.merge(input_data, cust_nodes_id_df, how='left', on='userid')\n",
    "input_data.head(2)"
   ]
  },
  {
   "cell_type": "markdown",
   "metadata": {},
   "source": [
    "#### Order\n",
    "- purchase_id 활용 "
   ]
  },
  {
   "cell_type": "markdown",
   "metadata": {},
   "source": [
    "### Input Nodes Data "
   ]
  },
  {
   "cell_type": "code",
   "execution_count": 31,
   "metadata": {},
   "outputs": [],
   "source": [
    "for prd in prd_nodes_id:\n",
    "    \n",
    "    prd_id = prd['prod_sku_id']\n",
    "    prd_name =  prd['prod_sku']\n",
    "\n",
    "    query = \"\"\"CREATE (:product {condition})\"\"\".format(condition = '{'+f'id: {prd_id}, name: \\'{prd_name}\\''+'}')\n",
    "    \n",
    "    r.execute_command('GRAPH.QUERY', 'product_recommendation', query)"
   ]
  },
  {
   "cell_type": "code",
   "execution_count": 32,
   "metadata": {},
   "outputs": [
    {
     "name": "stdout",
     "output_type": "stream",
     "text": [
      "number of product node:  200\n"
     ]
    }
   ],
   "source": [
    "print('number of product node: ', len(prd_nodes_id))"
   ]
  },
  {
   "cell_type": "code",
   "execution_count": 33,
   "metadata": {},
   "outputs": [],
   "source": [
    "query = \"\"\"MATCH (p:product)\n",
    "           RETURN size(collect(p.name))\"\"\"\n",
    "\n",
    "result = purchase_graph.query(query)"
   ]
  },
  {
   "cell_type": "code",
   "execution_count": 34,
   "metadata": {},
   "outputs": [
    {
     "name": "stdout",
     "output_type": "stream",
     "text": [
      "+--------------------------+\n",
      "| b'size(collect(p.name))' |\n",
      "+--------------------------+\n",
      "|           200            |\n",
      "+--------------------------+\n",
      "\n",
      "Cached execution 0.0\n",
      "internal execution time 2.140333\n"
     ]
    }
   ],
   "source": [
    "result.pretty_print()"
   ]
  },
  {
   "cell_type": "markdown",
   "metadata": {},
   "source": [
    "##### Customer "
   ]
  },
  {
   "cell_type": "code",
   "execution_count": 35,
   "metadata": {},
   "outputs": [],
   "source": [
    "for cust in cust_nodes_id:\n",
    "    \n",
    "    customer_id = cust['cust_id']\n",
    "    cust_name =  cust['userid']\n",
    "\n",
    "    query = \"\"\"CREATE (:customer {condition})\"\"\".format(condition = '{'+f'id: {customer_id}, name: \\'{cust_name}\\''+'}')\n",
    "    \n",
    "    r.execute_command('GRAPH.QUERY', 'product_recommendation', query)"
   ]
  },
  {
   "cell_type": "code",
   "execution_count": 36,
   "metadata": {},
   "outputs": [
    {
     "name": "stdout",
     "output_type": "stream",
     "text": [
      "number of customer node:  7998\n"
     ]
    }
   ],
   "source": [
    "print('number of customer node: ', len(cust_nodes_id))"
   ]
  },
  {
   "cell_type": "code",
   "execution_count": 37,
   "metadata": {},
   "outputs": [],
   "source": [
    "query = \"\"\"MATCH (p:customer)\n",
    "           RETURN size(collect(p.name))\"\"\"\n",
    "\n",
    "result = purchase_graph.query(query)"
   ]
  },
  {
   "cell_type": "code",
   "execution_count": 38,
   "metadata": {},
   "outputs": [
    {
     "name": "stdout",
     "output_type": "stream",
     "text": [
      "+--------------------------+\n",
      "| b'size(collect(p.name))' |\n",
      "+--------------------------+\n",
      "|           7998           |\n",
      "+--------------------------+\n",
      "\n",
      "Cached execution 0.0\n",
      "internal execution time 16.551584\n"
     ]
    }
   ],
   "source": [
    "result.pretty_print()"
   ]
  },
  {
   "cell_type": "markdown",
   "metadata": {},
   "source": [
    "##### Order "
   ]
  },
  {
   "cell_type": "code",
   "execution_count": 39,
   "metadata": {},
   "outputs": [],
   "source": [
    "for ord_n in input_data.purchase_id.unique():\n",
    "    try:\n",
    "        ord_n_id = int(ord_n)\n",
    "        e_time = input_data.loc[input_data.purchase_id == ord_n_id, 'eventtime'].item()\n",
    "    \n",
    "        ord_n_name = '['+str(ord_n)+']'\n",
    "        \n",
    "        query = \"\"\"CREATE (:order {condition})\"\"\".format(condition = '{'+f'id: {ord_n_id}, name: \\'{ord_n_name}\\', time: \\'{e_time}\\''+'}')\n",
    "#         print(query)\n",
    "        r.execute_command('GRAPH.QUERY', 'product_recommendation', query)\n",
    "    \n",
    "    except ValueError:\n",
    "        pass"
   ]
  },
  {
   "cell_type": "code",
   "execution_count": 40,
   "metadata": {},
   "outputs": [
    {
     "name": "stdout",
     "output_type": "stream",
     "text": [
      "number of order node:  2556\n"
     ]
    }
   ],
   "source": [
    "print('number of order node: ', len(input_data.loc[~input_data.purchase_id.isnull(), 'purchase_id'].unique()))"
   ]
  },
  {
   "cell_type": "code",
   "execution_count": 41,
   "metadata": {},
   "outputs": [],
   "source": [
    "query = \"\"\"MATCH (p:order)\n",
    "           RETURN size(collect(p.name))\"\"\"\n",
    "\n",
    "result = purchase_graph.query(query)"
   ]
  },
  {
   "cell_type": "code",
   "execution_count": 42,
   "metadata": {},
   "outputs": [
    {
     "name": "stdout",
     "output_type": "stream",
     "text": [
      "+--------------------------+\n",
      "| b'size(collect(p.name))' |\n",
      "+--------------------------+\n",
      "|           277            |\n",
      "+--------------------------+\n",
      "\n",
      "Cached execution 0.0\n",
      "internal execution time 6.476292\n"
     ]
    }
   ],
   "source": [
    "result.pretty_print()"
   ]
  },
  {
   "cell_type": "markdown",
   "metadata": {},
   "source": [
    "## Generate Edges\n",
    "- 고객 개개인을 기준으로 구매 행동 Edge 생성"
   ]
  },
  {
   "cell_type": "code",
   "execution_count": 43,
   "metadata": {},
   "outputs": [
    {
     "data": {
      "text/html": [
       "<div>\n",
       "<style scoped>\n",
       "    .dataframe tbody tr th:only-of-type {\n",
       "        vertical-align: middle;\n",
       "    }\n",
       "\n",
       "    .dataframe tbody tr th {\n",
       "        vertical-align: top;\n",
       "    }\n",
       "\n",
       "    .dataframe thead th {\n",
       "        text-align: right;\n",
       "    }\n",
       "</style>\n",
       "<table border=\"1\" class=\"dataframe\">\n",
       "  <thead>\n",
       "    <tr style=\"text-align: right;\">\n",
       "      <th></th>\n",
       "      <th>eventtime</th>\n",
       "      <th>userid</th>\n",
       "      <th>behavior</th>\n",
       "      <th>prod_sku</th>\n",
       "      <th>purchase_id</th>\n",
       "      <th>product_num</th>\n",
       "      <th>prod_sku_id</th>\n",
       "      <th>cust_id</th>\n",
       "    </tr>\n",
       "  </thead>\n",
       "  <tbody>\n",
       "    <tr>\n",
       "      <th>0</th>\n",
       "      <td>2021-10-01 00:00:12.648</td>\n",
       "      <td>3692</td>\n",
       "      <td>view</td>\n",
       "      <td>[134]</td>\n",
       "      <td>NaN</td>\n",
       "      <td>1</td>\n",
       "      <td>0</td>\n",
       "      <td>0</td>\n",
       "    </tr>\n",
       "    <tr>\n",
       "      <th>1</th>\n",
       "      <td>2021-10-01 00:00:13.617</td>\n",
       "      <td>2921</td>\n",
       "      <td>addtocart</td>\n",
       "      <td>[94]</td>\n",
       "      <td>NaN</td>\n",
       "      <td>1</td>\n",
       "      <td>1</td>\n",
       "      <td>1</td>\n",
       "    </tr>\n",
       "    <tr>\n",
       "      <th>2</th>\n",
       "      <td>2021-10-01 00:00:29.639</td>\n",
       "      <td>4185</td>\n",
       "      <td>view</td>\n",
       "      <td>[178]</td>\n",
       "      <td>NaN</td>\n",
       "      <td>1</td>\n",
       "      <td>2</td>\n",
       "      <td>2</td>\n",
       "    </tr>\n",
       "    <tr>\n",
       "      <th>3</th>\n",
       "      <td>2021-10-01 00:00:41.871</td>\n",
       "      <td>7188</td>\n",
       "      <td>view</td>\n",
       "      <td>[16]</td>\n",
       "      <td>NaN</td>\n",
       "      <td>1</td>\n",
       "      <td>3</td>\n",
       "      <td>3</td>\n",
       "    </tr>\n",
       "    <tr>\n",
       "      <th>4</th>\n",
       "      <td>2021-10-01 00:00:42.624</td>\n",
       "      <td>5847</td>\n",
       "      <td>addtocart</td>\n",
       "      <td>[159]</td>\n",
       "      <td>NaN</td>\n",
       "      <td>1</td>\n",
       "      <td>4</td>\n",
       "      <td>4</td>\n",
       "    </tr>\n",
       "  </tbody>\n",
       "</table>\n",
       "</div>"
      ],
      "text/plain": [
       "                eventtime  userid   behavior prod_sku  purchase_id  \\\n",
       "0 2021-10-01 00:00:12.648    3692       view    [134]          NaN   \n",
       "1 2021-10-01 00:00:13.617    2921  addtocart     [94]          NaN   \n",
       "2 2021-10-01 00:00:29.639    4185       view    [178]          NaN   \n",
       "3 2021-10-01 00:00:41.871    7188       view     [16]          NaN   \n",
       "4 2021-10-01 00:00:42.624    5847  addtocart    [159]          NaN   \n",
       "\n",
       "   product_num  prod_sku_id  cust_id  \n",
       "0            1            0        0  \n",
       "1            1            1        1  \n",
       "2            1            2        2  \n",
       "3            1            3        3  \n",
       "4            1            4        4  "
      ]
     },
     "execution_count": 43,
     "metadata": {},
     "output_type": "execute_result"
    }
   ],
   "source": [
    "input_data.head()"
   ]
  },
  {
   "cell_type": "markdown",
   "metadata": {},
   "source": [
    "### 사용자 행동에 대한 Edges"
   ]
  },
  {
   "cell_type": "code",
   "execution_count": 44,
   "metadata": {},
   "outputs": [
    {
     "data": {
      "text/plain": [
       "view         49737\n",
       "checkout     24931\n",
       "transact     12809\n",
       "addtocart     3168\n",
       "refund           8\n",
       "Name: behavior, dtype: int64"
      ]
     },
     "execution_count": 44,
     "metadata": {},
     "output_type": "execute_result"
    }
   ],
   "source": [
    "input_data.behavior.value_counts()"
   ]
  },
  {
   "cell_type": "code",
   "execution_count": 45,
   "metadata": {},
   "outputs": [],
   "source": [
    "# 사용자 행동에 대한 Edges 생성 - Detail, Checkout, Puchase, Add\n",
    "# datetime -> int 변경\n",
    "\n",
    "# 1. 인기 상품 : 많이 본 상품, 많이 산 상품 \n",
    "# 2. 관련 상품 : 해당 상품을 본 사람들이 본 다른 상품 / 해당 상품을 본 사람들이 산 다른 상품 / 해당 상품을 산 사람들이 본 다른 상품 / 해당 상품을 산 사람들이 산 다른 상품 \n",
    "# 3. 기간에 대한 조건 설정 \n",
    "\n",
    "\n",
    "\n",
    "for c1, c2, c3, c4, c5, c6, c7, c8 in input_data.to_records(index=False):\n",
    "    if c3 != 'transact':\n",
    "        query = \"\"\"MATCH (c:customer {customer_id})\n",
    "                   MATCH (prd:product {prod_id})\n",
    "                   MERGE (c)-[:{behavior} {t}]->(prd)\"\"\".format(customer_id = '{'+f'id: {c8}'+'}', prod_id = '{'+f'id: {c7}'+'}', behavior = c3, t='{'+f'time: \\'{c1}\\''+'}')\n",
    "    #     print(query)\n",
    "\n",
    "        r.execute_command('GRAPH.QUERY', 'product_recommendation', query)\n",
    "    else:\n",
    "        try:\n",
    "            query = \"\"\"MATCH (c:customer {customer_id})\n",
    "                       MATCH (ord:order {ord_id})\n",
    "                       MERGE (c)-[:{behavior} {t}]->(ord)\"\"\".format(customer_id = '{'+f'id: {c8}'+'}', ord_id = '{'+f'id: {int(c5)}'+'}', behavior = c3, t='{'+f'time: \\'{c1}\\''+'}')\n",
    "        #     print(query)\n",
    "\n",
    "            r.execute_command('GRAPH.QUERY', 'product_recommendation', query)    \n",
    "        except ValueError:\n",
    "            pass\n",
    "    "
   ]
  },
  {
   "cell_type": "markdown",
   "metadata": {},
   "source": [
    "### Order node와 상품 간의 관계에 대한 Edges"
   ]
  },
  {
   "cell_type": "code",
   "execution_count": 46,
   "metadata": {},
   "outputs": [],
   "source": [
    "# Order node와 상품 간의 관계 \n",
    "\n",
    "for c1, c2, c3, c4, c5, c6, c7, c8 in input_data.to_records(index=False):\n",
    "    try:\n",
    "        query = \"\"\"MATCH (o:order {purchase_id})\n",
    "                   MATCH (prd:product {prod_id})\n",
    "                   MERGE (o)-[:contain {t}]->(prd)\"\"\".format(purchase_id = '{'+f'id: {int(c5)}'+'}', prod_id = '{'+f'id: {c7}'+'}', t='{'+f'time: \\'{c1}\\''+'}')\n",
    "#         print(query)\n",
    "        r.execute_command('GRAPH.QUERY', 'product_recommendation', query)\n",
    "    except ValueError:\n",
    "        pass"
   ]
  }
 ],
 "metadata": {
  "kernelspec": {
   "display_name": "Python 3",
   "language": "python",
   "name": "python3"
  },
  "language_info": {
   "codemirror_mode": {
    "name": "ipython",
    "version": 3
   },
   "file_extension": ".py",
   "mimetype": "text/x-python",
   "name": "python",
   "nbconvert_exporter": "python",
   "pygments_lexer": "ipython3",
   "version": "3.8.5"
  },
  "toc": {
   "base_numbering": 1,
   "nav_menu": {},
   "number_sections": true,
   "sideBar": true,
   "skip_h1_title": false,
   "title_cell": "Table of Contents",
   "title_sidebar": "Contents",
   "toc_cell": false,
   "toc_position": {},
   "toc_section_display": true,
   "toc_window_display": false
  }
 },
 "nbformat": 4,
 "nbformat_minor": 4
}
